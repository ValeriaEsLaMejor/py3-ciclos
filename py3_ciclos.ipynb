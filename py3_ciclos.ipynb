{
  "nbformat": 4,
  "nbformat_minor": 0,
  "metadata": {
    "colab": {
      "name": "py3_ciclos.ipynb",
      "provenance": [],
      "authorship_tag": "ABX9TyN4NM//mE/KLvSGooj43VQ5",
      "include_colab_link": true
    },
    "kernelspec": {
      "name": "python3",
      "display_name": "Python 3"
    },
    "language_info": {
      "name": "python"
    }
  },
  "cells": [
    {
      "cell_type": "markdown",
      "metadata": {
        "id": "view-in-github",
        "colab_type": "text"
      },
      "source": [
        "<a href=\"https://colab.research.google.com/github/ValeriaEsLaMejor/py3-ciclos/blob/main/py3_ciclos.ipynb\" target=\"_parent\"><img src=\"https://colab.research.google.com/assets/colab-badge.svg\" alt=\"Open In Colab\"/></a>"
      ]
    },
    {
      "cell_type": "code",
      "metadata": {
        "id": "UTgdSl9fuylp"
      },
      "source": [
        "def sumatoria_1 (A,B,C):\n",
        "  \"\"\"\n",
        "  A,B,C son listas de igual longitud\n",
        "  \"\"\"\n",
        "  n=len(A)\n",
        "  acumulador=0\n",
        "  for i in range(n):\n",
        "    d=B[i]+C[i]\n",
        "    e=A[i]*d\n",
        "    acumulador=acumulador+e\n",
        "  resultado=acumulador/n\n",
        "  return resultado  "
      ],
      "execution_count": 2,
      "outputs": []
    },
    {
      "cell_type": "code",
      "metadata": {
        "colab": {
          "base_uri": "https://localhost:8080/"
        },
        "id": "UOEDqvUO2Oi3",
        "outputId": "11d98d41-cc6a-49c5-aaca-a8b4ca3f62eb"
      },
      "source": [
        "A=[4,6,8]\n",
        "B=[2,2,2]\n",
        "C=[1,2,3]\n",
        "sumatoria_1(A,B,C)"
      ],
      "execution_count": 3,
      "outputs": [
        {
          "output_type": "execute_result",
          "data": {
            "text/plain": [
              "25.333333333333332"
            ]
          },
          "metadata": {},
          "execution_count": 3
        }
      ]
    },
    {
      "cell_type": "code",
      "metadata": {
        "colab": {
          "base_uri": "https://localhost:8080/"
        },
        "id": "l6Y97CHZ2wEV",
        "outputId": "9a681eb2-5416-4b02-f601-992611727485"
      },
      "source": [
        "(4*(2+1)+6*(2+2)+8*(2+3))/3"
      ],
      "execution_count": 4,
      "outputs": [
        {
          "output_type": "execute_result",
          "data": {
            "text/plain": [
              "25.333333333333332"
            ]
          },
          "metadata": {},
          "execution_count": 4
        }
      ]
    },
    {
      "cell_type": "code",
      "metadata": {
        "id": "pZ7LRVFs3hjY"
      },
      "source": [
        "def sumatoria_2 (A,B):\n",
        "  \"\"\"\n",
        "  A,B,C son listas de igual longitud\n",
        "  \"\"\"\n",
        "  n=len(A)//2\n",
        "  acumulador=0\n",
        "  for i in range(n):\n",
        "    c=A[i]+B[n+i]\n",
        "    d=A[2*i]-B[2*i+1]\n",
        "    e=c*d\n",
        "    acumulador=acumulador+e\n",
        "  return acumulador  "
      ],
      "execution_count": 5,
      "outputs": []
    },
    {
      "cell_type": "code",
      "metadata": {
        "colab": {
          "base_uri": "https://localhost:8080/"
        },
        "id": "1uiHsGJf4HrV",
        "outputId": "85f4c467-4eb6-43aa-9ead-d567af7f8d6f"
      },
      "source": [
        "A=[4,6,8,2]\n",
        "B=[2,1,0,-1]\n",
        "sumatoria_2(A,B)"
      ],
      "execution_count": 6,
      "outputs": [
        {
          "output_type": "execute_result",
          "data": {
            "text/plain": [
              "57"
            ]
          },
          "metadata": {},
          "execution_count": 6
        }
      ]
    },
    {
      "cell_type": "code",
      "metadata": {
        "colab": {
          "base_uri": "https://localhost:8080/"
        },
        "id": "w683uaEH4cYJ",
        "outputId": "43078fea-7102-40a2-808b-bfff8a7f3753"
      },
      "source": [
        "(4+0)*(4-1)+(6+(-1))*(8-(-1))"
      ],
      "execution_count": 8,
      "outputs": [
        {
          "output_type": "execute_result",
          "data": {
            "text/plain": [
              "57"
            ]
          },
          "metadata": {},
          "execution_count": 8
        }
      ]
    },
    {
      "cell_type": "code",
      "metadata": {
        "id": "Nm_yBgwZ41iB"
      },
      "source": [
        "def llena_lista_1(A,B):\n",
        "  \"\"\"\n",
        "  A,B,C son listas de igual longitud\n",
        "  \"\"\"\n",
        "  n=len(A)//2\n",
        "  C=[]\n",
        "  for i in range(n):\n",
        "    d=A[2*i]-B[2*i+1]\n",
        "    e=A[i]*d\n",
        "    f=e+B[n+i]\n",
        "    C.append(f)\n",
        "  return C"
      ],
      "execution_count": 9,
      "outputs": []
    },
    {
      "cell_type": "code",
      "metadata": {
        "colab": {
          "base_uri": "https://localhost:8080/"
        },
        "id": "XJBw8uFi5nG0",
        "outputId": "625e7f7f-7d6b-464a-8db2-0a5edb0a91c2"
      },
      "source": [
        "A=[4,6,8,2]\n",
        "B=[2,1,0,-1]\n",
        "llena_lista_1(A,B)"
      ],
      "execution_count": 10,
      "outputs": [
        {
          "output_type": "execute_result",
          "data": {
            "text/plain": [
              "[12, 53]"
            ]
          },
          "metadata": {},
          "execution_count": 10
        }
      ]
    },
    {
      "cell_type": "code",
      "metadata": {
        "colab": {
          "base_uri": "https://localhost:8080/"
        },
        "id": "9ZeT_ne552fu",
        "outputId": "b791588f-1f2f-442d-f954-fdec44ff2e83"
      },
      "source": [
        "[(4*(4-1))+0, 6*(8-(-1))+(-1)]"
      ],
      "execution_count": 12,
      "outputs": [
        {
          "output_type": "execute_result",
          "data": {
            "text/plain": [
              "[12, 53]"
            ]
          },
          "metadata": {},
          "execution_count": 12
        }
      ]
    },
    {
      "cell_type": "code",
      "metadata": {
        "id": "eTK7fo4U6swY"
      },
      "source": [
        "def ejercicio_1 (A,B,C):\n",
        "  \"\"\"\n",
        "  A,B,C son listas de igual longitud\n",
        "  \"\"\"\n",
        "  n=len(A)\n",
        "  acumulador=0\n",
        "  for i in range(n):\n",
        "    d=A[i]*B[i]\n",
        "    e=C[i]+d\n",
        "    acumulador=acumulador+e\n",
        "  resultado=acumulador+(n**2)\n",
        "  return resultado"
      ],
      "execution_count": 16,
      "outputs": []
    },
    {
      "cell_type": "code",
      "metadata": {
        "colab": {
          "base_uri": "https://localhost:8080/"
        },
        "id": "HVpf1Y5E7oOa",
        "outputId": "07eac11d-6d11-4a0e-fcae-680804671392"
      },
      "source": [
        "A=[4,6,8]\n",
        "B=[2,2,2]\n",
        "C=[1,2,3]\n",
        "ejercicio_1(A,B,C)"
      ],
      "execution_count": 17,
      "outputs": [
        {
          "output_type": "execute_result",
          "data": {
            "text/plain": [
              "51"
            ]
          },
          "metadata": {},
          "execution_count": 17
        }
      ]
    },
    {
      "cell_type": "code",
      "metadata": {
        "colab": {
          "base_uri": "https://localhost:8080/"
        },
        "id": "2RIGMmJO7x3w",
        "outputId": "0ddd3847-d11d-4a7b-e7b1-2938dae49dd6"
      },
      "source": [
        "((4*2)+1+(6*2)+2+(8*2)+3)+(3**2)"
      ],
      "execution_count": 18,
      "outputs": [
        {
          "output_type": "execute_result",
          "data": {
            "text/plain": [
              "51"
            ]
          },
          "metadata": {},
          "execution_count": 18
        }
      ]
    },
    {
      "cell_type": "code",
      "metadata": {
        "id": "R9zK83Qt8gKO"
      },
      "source": [
        "def ejercicio_2(A,B):\n",
        "  \"\"\"\n",
        "  A,B,C son listas de igual longitud\n",
        "  \"\"\"\n",
        "  n=len(A)//2\n",
        "  C=[]\n",
        "  for i in range(n):\n",
        "    d=A[i+1]**2\n",
        "    e=d*B[2*i]\n",
        "    f=e+B[n+i]\n",
        "    C.append(f)\n",
        "  return C"
      ],
      "execution_count": 20,
      "outputs": []
    },
    {
      "cell_type": "code",
      "metadata": {
        "colab": {
          "base_uri": "https://localhost:8080/"
        },
        "id": "spHcdzvWA9gI",
        "outputId": "27f78d9e-7e06-4b96-b3b4-3df71a6da6a7"
      },
      "source": [
        "A=[4,6,8,2]\n",
        "B=[2,1,0,-1]\n",
        "ejercicio_2(A,B)"
      ],
      "execution_count": 21,
      "outputs": [
        {
          "output_type": "execute_result",
          "data": {
            "text/plain": [
              "[72, -1]"
            ]
          },
          "metadata": {},
          "execution_count": 21
        }
      ]
    },
    {
      "cell_type": "code",
      "metadata": {
        "id": "2vPakOYPBElp"
      },
      "source": [
        ""
      ],
      "execution_count": null,
      "outputs": []
    }
  ]
}